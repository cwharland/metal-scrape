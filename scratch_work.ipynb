{
 "cells": [
  {
   "cell_type": "code",
   "execution_count": 13,
   "metadata": {
    "collapsed": true
   },
   "outputs": [],
   "source": [
    "from metal_lyric_data import *"
   ]
  },
  {
   "cell_type": "code",
   "execution_count": 14,
   "metadata": {
    "collapsed": false
   },
   "outputs": [],
   "source": [
    "df_artist = get_artist_genre_table(500)"
   ]
  },
  {
   "cell_type": "code",
   "execution_count": 15,
   "metadata": {
    "collapsed": false
   },
   "outputs": [
    {
     "name": "stdout",
     "output_type": "stream",
     "text": [
      "<class 'pandas.core.frame.DataFrame'>\n",
      "Int64Index: 600 entries, 0 to 599\n",
      "Data columns (total 3 columns):\n",
      "artist     600 non-null object\n",
      "genre      600 non-null object\n",
      "country    600 non-null object\n",
      "dtypes: object(3)\n",
      "memory usage: 18.8+ KB\n"
     ]
    }
   ],
   "source": [
    "df_artist.info()"
   ]
  },
  {
   "cell_type": "code",
   "execution_count": 26,
   "metadata": {
    "collapsed": false
   },
   "outputs": [
    {
     "data": {
      "text/html": [
       "<div>\n",
       "<table border=\"1\" class=\"dataframe\">\n",
       "  <thead>\n",
       "    <tr style=\"text-align: right;\">\n",
       "      <th></th>\n",
       "      <th>artist</th>\n",
       "      <th>genre</th>\n",
       "      <th>country</th>\n",
       "    </tr>\n",
       "  </thead>\n",
       "  <tbody>\n",
       "    <tr>\n",
       "      <th>595</th>\n",
       "      <td>A.G.R.E.S.O.R.</td>\n",
       "      <td>Thrash Metal</td>\n",
       "      <td>Argentina</td>\n",
       "    </tr>\n",
       "    <tr>\n",
       "      <th>596</th>\n",
       "      <td>A.I.D.S.</td>\n",
       "      <td>Black Metal</td>\n",
       "      <td>United States</td>\n",
       "    </tr>\n",
       "    <tr>\n",
       "      <th>597</th>\n",
       "      <td>A.I.T.H.</td>\n",
       "      <td>Heavy Metal</td>\n",
       "      <td>Japan</td>\n",
       "    </tr>\n",
       "    <tr>\n",
       "      <th>598</th>\n",
       "      <td>A.L.M.A.</td>\n",
       "      <td>Heavy Metal</td>\n",
       "      <td>Argentina</td>\n",
       "    </tr>\n",
       "    <tr>\n",
       "      <th>599</th>\n",
       "      <td>A.L.M.A.S.</td>\n",
       "      <td>Heavy Metal</td>\n",
       "      <td>Argentina</td>\n",
       "    </tr>\n",
       "  </tbody>\n",
       "</table>\n",
       "</div>"
      ],
      "text/plain": [
       "             artist         genre        country\n",
       "595  A.G.R.E.S.O.R.  Thrash Metal      Argentina\n",
       "596        A.I.D.S.   Black Metal  United States\n",
       "597        A.I.T.H.   Heavy Metal          Japan\n",
       "598        A.L.M.A.   Heavy Metal      Argentina\n",
       "599      A.L.M.A.S.   Heavy Metal      Argentina"
      ]
     },
     "execution_count": 26,
     "metadata": {},
     "output_type": "execute_result"
    }
   ],
   "source": [
    "df_artist.tail()"
   ]
  },
  {
   "cell_type": "code",
   "execution_count": 17,
   "metadata": {
    "collapsed": true
   },
   "outputs": [],
   "source": [
    "df_songs = get_song_table(500)"
   ]
  },
  {
   "cell_type": "code",
   "execution_count": 24,
   "metadata": {
    "collapsed": false
   },
   "outputs": [
    {
     "name": "stdout",
     "output_type": "stream",
     "text": [
      "<class 'pandas.core.frame.DataFrame'>\n",
      "Int64Index: 600 entries, 0 to 599\n",
      "Data columns (total 5 columns):\n",
      "artist        600 non-null object\n",
      "album         600 non-null object\n",
      "album_type    600 non-null object\n",
      "song          600 non-null object\n",
      "lyric_id      600 non-null int64\n",
      "dtypes: int64(1), object(4)\n",
      "memory usage: 28.1+ KB\n"
     ]
    }
   ],
   "source": [
    "df_songs.info()"
   ]
  },
  {
   "cell_type": "code",
   "execution_count": 25,
   "metadata": {
    "collapsed": false
   },
   "outputs": [
    {
     "data": {
      "text/html": [
       "<div>\n",
       "<table border=\"1\" class=\"dataframe\">\n",
       "  <thead>\n",
       "    <tr style=\"text-align: right;\">\n",
       "      <th></th>\n",
       "      <th>artist</th>\n",
       "      <th>album</th>\n",
       "      <th>album_type</th>\n",
       "      <th>song</th>\n",
       "      <th>lyric_id</th>\n",
       "    </tr>\n",
       "  </thead>\n",
       "  <tbody>\n",
       "    <tr>\n",
       "      <th>206</th>\n",
       "      <td>$ilverdollar</td>\n",
       "      <td>Covers from Hell</td>\n",
       "      <td>Full-length</td>\n",
       "      <td>Aces High (Iron Maiden cover)</td>\n",
       "      <td>803064</td>\n",
       "    </tr>\n",
       "    <tr>\n",
       "      <th>207</th>\n",
       "      <td>$ilverdollar</td>\n",
       "      <td>Covers from Hell</td>\n",
       "      <td>Full-length</td>\n",
       "      <td>Bark at the Moon (Ozzy Osbourne cover)</td>\n",
       "      <td>803063</td>\n",
       "    </tr>\n",
       "    <tr>\n",
       "      <th>208</th>\n",
       "      <td>$ilverdollar</td>\n",
       "      <td>Covers from Hell</td>\n",
       "      <td>Full-length</td>\n",
       "      <td>Crazy Train (Ozzy Osbourne cover)</td>\n",
       "      <td>803071</td>\n",
       "    </tr>\n",
       "    <tr>\n",
       "      <th>209</th>\n",
       "      <td>$ilverdollar</td>\n",
       "      <td>Covers from Hell</td>\n",
       "      <td>Full-length</td>\n",
       "      <td>Don't Talk to Strangers (Dio cover)</td>\n",
       "      <td>803068</td>\n",
       "    </tr>\n",
       "    <tr>\n",
       "      <th>210</th>\n",
       "      <td>$ilverdollar</td>\n",
       "      <td>Covers from Hell</td>\n",
       "      <td>Full-length</td>\n",
       "      <td>Freewheel Burning (Judas Priest cover)</td>\n",
       "      <td>803070</td>\n",
       "    </tr>\n",
       "  </tbody>\n",
       "</table>\n",
       "</div>"
      ],
      "text/plain": [
       "           artist             album   album_type  \\\n",
       "206  $ilverdollar  Covers from Hell  Full-length   \n",
       "207  $ilverdollar  Covers from Hell  Full-length   \n",
       "208  $ilverdollar  Covers from Hell  Full-length   \n",
       "209  $ilverdollar  Covers from Hell  Full-length   \n",
       "210  $ilverdollar  Covers from Hell  Full-length   \n",
       "\n",
       "                                       song  lyric_id  \n",
       "206           Aces High (Iron Maiden cover)    803064  \n",
       "207  Bark at the Moon (Ozzy Osbourne cover)    803063  \n",
       "208       Crazy Train (Ozzy Osbourne cover)    803071  \n",
       "209     Don't Talk to Strangers (Dio cover)    803068  \n",
       "210  Freewheel Burning (Judas Priest cover)    803070  "
      ]
     },
     "execution_count": 25,
     "metadata": {},
     "output_type": "execute_result"
    }
   ],
   "source": [
    "df_songs.iloc[206:211, :]"
   ]
  },
  {
   "cell_type": "code",
   "execution_count": 21,
   "metadata": {
    "collapsed": false
   },
   "outputs": [
    {
     "data": {
      "text/plain": [
       "206    There goes the siren that warns of the air rai...\n",
       "207    SCREAMS BREAK THE SILENCE WAKING FROM THE DEAD...\n",
       "208    All aboard, hah hah Crazy, but that's how it g...\n",
       "209    Don't talk to strangers Mmmmh Don't talk to st...\n",
       "210    Fast and furious We ride the universe To carve...\n",
       "Name: lyric_id, dtype: object"
      ]
     },
     "execution_count": 21,
     "metadata": {},
     "output_type": "execute_result"
    }
   ],
   "source": [
    "df_songs.iloc[206:211, :].lyric_id.apply(get_lyrics)"
   ]
  },
  {
   "cell_type": "code",
   "execution_count": null,
   "metadata": {
    "collapsed": true
   },
   "outputs": [],
   "source": []
  }
 ],
 "metadata": {
  "kernelspec": {
   "display_name": "Python 2",
   "language": "python",
   "name": "python2"
  },
  "language_info": {
   "codemirror_mode": {
    "name": "ipython",
    "version": 2
   },
   "file_extension": ".py",
   "mimetype": "text/x-python",
   "name": "python",
   "nbconvert_exporter": "python",
   "pygments_lexer": "ipython2",
   "version": "2.7.11"
  }
 },
 "nbformat": 4,
 "nbformat_minor": 0
}
